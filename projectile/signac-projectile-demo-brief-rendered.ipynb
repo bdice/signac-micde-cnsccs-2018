{
 "cells": [
  {
   "cell_type": "markdown",
   "metadata": {},
   "source": [
    "# signac Projectile Demo (Brief)"
   ]
  },
  {
   "cell_type": "markdown",
   "metadata": {},
   "source": [
    "*The following cell resets all data from previous runs of this notebook.*"
   ]
  },
  {
   "cell_type": "code",
   "execution_count": 1,
   "metadata": {},
   "outputs": [],
   "source": [
    "!rm -rf workspace signac.rc project.py dashboard.py *.err.* *.out.* signac_project_document.json view"
   ]
  },
  {
   "cell_type": "markdown",
   "metadata": {},
   "source": [
    "## Introduction\n",
    "\n",
    "This notebook gives an example of how the ``signac`` framework can be used to manage a data space and automate operations on this data space.\n",
    "\n",
    "In this example, let's imagine that we're studying the behavior of a projectile launched at a specific velocity and angle to visualize the distance it will travel before it lands.\n",
    "We use simple Newtonian mechanics to model the motion to determine how long the object travels: \n",
    "\n",
    "$$y(t) = y(0) + v\\sin(\\theta) t - \\frac{1}{2} g t^2$$\n",
    "\n",
    "Setting $y(0)=0$ and solving for $t_{max}$ such that $y(t_{max}) = 0$ yields: $t_\\max= \\frac{2v \\sin(\\theta)}{g}$"
   ]
  },
  {
   "cell_type": "markdown",
   "metadata": {},
   "source": [
    "## Initial experiments\n",
    "\n",
    "We express the simple math from above in two Python functions that calculate the maximum time the projectile travels, $t_\\max$, and the $(x, y)$ coordinates of its trajectory."
   ]
  },
  {
   "cell_type": "code",
   "execution_count": 2,
   "metadata": {},
   "outputs": [],
   "source": [
    "import numpy as np\n",
    "\n",
    "def get_t_max(v, theta, g=9.81):\n",
    "    return 2 * v * np.sin(theta) / g\n",
    "\n",
    "def compute_xy(t, v, theta, g=9.81):\n",
    "    return v * np.cos(theta) * t, v * np.sin(theta) * t - (g/2) * t**2"
   ]
  },
  {
   "cell_type": "markdown",
   "metadata": {},
   "source": [
    "Let's observe the effect of launching the projectile at different angles:"
   ]
  },
  {
   "cell_type": "code",
   "execution_count": 3,
   "metadata": {},
   "outputs": [
    {
     "name": "stdout",
     "output_type": "stream",
     "text": [
      "Time traveled (theta=20.0): 2.32 min\n"
     ]
    }
   ],
   "source": [
    "theta = 20 * np.pi / 180   # rad\n",
    "\n",
    "t_max = get_t_max(\n",
    "    v     = 2000,  # m/s\n",
    "    theta = theta,\n",
    ")\n",
    "\n",
    "print(\"Time traveled (theta={:2.1f}): {:.2f} min\".format(theta * 180/np.pi, t_max / 60))"
   ]
  },
  {
   "cell_type": "markdown",
   "metadata": {},
   "source": [
    "We can also execute a slightly more \"*systematic*\" study of the maximum distance traveled over different launch angles:"
   ]
  },
  {
   "cell_type": "code",
   "execution_count": 4,
   "metadata": {},
   "outputs": [
    {
     "name": "stdout",
     "output_type": "stream",
     "text": [
      "Distance traveled (theta=00.0): 0.00 km\n",
      "Distance traveled (theta=11.5): 158.78 km\n",
      "Distance traveled (theta=22.9): 292.50 km\n",
      "Distance traveled (theta=34.4): 380.04 km\n",
      "Distance traveled (theta=45.8): 407.57 km\n",
      "Distance traveled (theta=57.3): 370.76 km\n",
      "Distance traveled (theta=68.8): 275.42 km\n",
      "Distance traveled (theta=80.2): 136.59 km\n"
     ]
    }
   ],
   "source": [
    "for theta in np.arange(0.0, np.pi/2, 0.2):\n",
    "    t_max = get_t_max(2000, theta)\n",
    "    x_max = compute_xy(t_max, 2000, theta)[0]\n",
    "    print(\"Distance traveled (theta={:04.1f}): {:3.2f} km\".format(theta * 180/np.pi, x_max / 1000))"
   ]
  },
  {
   "cell_type": "markdown",
   "metadata": {},
   "source": [
    "We have a plotting function in the `render.py` module:"
   ]
  },
  {
   "cell_type": "code",
   "execution_count": 5,
   "metadata": {},
   "outputs": [
    {
     "data": {
      "image/png": "[encoded data removed]",
      "text/plain": [
       "<Figure size 864x648 with 1 Axes>"
      ]
     },
     "metadata": {},
     "output_type": "display_data"
    }
   ],
   "source": [
    "%matplotlib inline\n",
    "import matplotlib.pyplot as plt\n",
    "from render import plot\n",
    "\n",
    "fig, ax = plot(velocity=2000, theta=45 * np.pi / 180)\n",
    "plt.show()"
   ]
  },
  {
   "cell_type": "markdown",
   "metadata": {
    "hideCode": false
   },
   "source": [
    "## Initialize a data space\n",
    "\n",
    "So far so good, but now, let's see how we can manage this data with ``signac``. "
   ]
  },
  {
   "cell_type": "code",
   "execution_count": 6,
   "metadata": {},
   "outputs": [],
   "source": [
    "import signac\n",
    "\n",
    "# Start by initializing a project\n",
    "project = signac.init_project(\"Projectile-Project\")\n",
    "\n",
    "# Obtain a 'job' handle for a specific *state point*:\n",
    "job = project.open_job({\"theta\": 0.4, \"velocity\": 2000})"
   ]
  },
  {
   "cell_type": "code",
   "execution_count": 7,
   "metadata": {},
   "outputs": [],
   "source": [
    "# JSON-encodable data can be stored in the *job document*, which works like a persistent dict:\n",
    "job.doc['t_max'] = get_t_max(v=job.sp['velocity'], theta=job.sp['theta'])\n",
    "\n",
    "# Just like the state point, the document data can also be accessed via *attributes*:\n",
    "job.doc.x_max = compute_xy(t=job.doc.t_max, v=job.sp.velocity, theta=job.sp.theta)[0]"
   ]
  },
  {
   "cell_type": "code",
   "execution_count": 8,
   "metadata": {},
   "outputs": [
    {
     "name": "stdout",
     "output_type": "stream",
     "text": [
      "{'theta': 0.4, 'velocity': 2000}\n",
      "{'t_max': 158.78423743471987, 'x_max': 292499.9351272264}\n"
     ]
    }
   ],
   "source": [
    "print(job.sp)\n",
    "print(job.doc)"
   ]
  },
  {
   "cell_type": "markdown",
   "metadata": {},
   "source": [
    "A *job* essentially represents a directory within our *workspace* on the file system."
   ]
  },
  {
   "cell_type": "code",
   "execution_count": 9,
   "metadata": {},
   "outputs": [
    {
     "name": "stdout",
     "output_type": "stream",
     "text": [
      "d1e4f4e909ca09c26abfe0c0875bff3f\n",
      "/home/bdice/code/signac-micde-cnsccs-2018/projectile/workspace/d1e4f4e909ca09c26abfe0c0875bff3f\n"
     ]
    }
   ],
   "source": [
    "print(job.get_id())\n",
    "print(job.workspace())"
   ]
  },
  {
   "cell_type": "markdown",
   "metadata": {},
   "source": [
    "We can use that to manage files directory on the file system:"
   ]
  },
  {
   "cell_type": "code",
   "execution_count": 10,
   "metadata": {},
   "outputs": [
    {
     "data": {
      "image/png": "[encoded data removed]",
      "text/plain": [
       "<Figure size 864x648 with 1 Axes>"
      ]
     },
     "metadata": {},
     "output_type": "display_data"
    }
   ],
   "source": [
    "fig, ax = plot(velocity=job.sp.velocity, theta=job.sp.theta)\n",
    "\n",
    "fig.savefig(job.fn('trajectory.png'))"
   ]
  },
  {
   "cell_type": "markdown",
   "metadata": {},
   "source": [
    "The `job.fn('trajectory.png')` command is a short-cut for `os.path.join(job.workspace(), 'trajectory.png')`."
   ]
  },
  {
   "cell_type": "markdown",
   "metadata": {},
   "source": [
    "We have now created the following directory structure on the file system:"
   ]
  },
  {
   "cell_type": "code",
   "execution_count": 11,
   "metadata": {},
   "outputs": [
    {
     "name": "stdout",
     "output_type": "stream",
     "text": [
      ".\n",
      "./render.py\n",
      "./signac-projectile-demo-brief-rendered.ipynb\n",
      "./signac-projectile-demo-brief.ipynb\n",
      "./signac-projectile-demo-full.ipynb\n",
      "./signac.rc\n",
      "./workspace\n",
      "./workspace/d1e4f4e909ca09c26abfe0c0875bff3f\n",
      "./workspace/d1e4f4e909ca09c26abfe0c0875bff3f/signac_job_document.json\n",
      "./workspace/d1e4f4e909ca09c26abfe0c0875bff3f/signac_statepoint.json\n",
      "./workspace/d1e4f4e909ca09c26abfe0c0875bff3f/trajectory.png\n"
     ]
    }
   ],
   "source": [
    "! find . -not -path '*/[\\._]*'"
   ]
  },
  {
   "cell_type": "markdown",
   "metadata": {},
   "source": [
    "## Expand data space\n",
    "\n",
    "We've shown how this works for one data point.\n",
    "\n",
    "However, `signac` is designed to interact with large data spaces with lots of data points.\n",
    "This is useful, for example to conduct a parameter study of various launch angles:"
   ]
  },
  {
   "cell_type": "code",
   "execution_count": 12,
   "metadata": {},
   "outputs": [],
   "source": [
    "for velocity in 2000, 2500, 3000:\n",
    "    for theta in 0.4, 0.625, 0.85, 1.3:\n",
    "        job = project.open_job({\"velocity\": velocity, \"theta\": theta})\n",
    "        job.doc.t_max = get_t_max(v=job.sp.velocity, theta=job.sp.theta)\n",
    "        job.doc.x_max = compute_xy(t=job.doc.t_max, v=job.sp.velocity, theta=job.sp.theta)[0]"
   ]
  },
  {
   "cell_type": "markdown",
   "metadata": {},
   "source": [
    "## Accessing this data\n",
    "\n",
    "The data is stored persistently on the file system and can be accessed later, for example, by iterating over the entire project."
   ]
  },
  {
   "cell_type": "code",
   "execution_count": 13,
   "metadata": {},
   "outputs": [
    {
     "name": "stdout",
     "output_type": "stream",
     "text": [
      "The furthest distance traveled was 909.78 km with θ=48.7°.\n"
     ]
    }
   ],
   "source": [
    "x_max = 0\n",
    "theta_max = 0\n",
    "\n",
    "for job in project:\n",
    "    if job.doc.x_max > x_max:\n",
    "        x_max = job.doc.x_max\n",
    "        theta_max = job.sp.theta\n",
    "\n",
    "print(\"The furthest distance traveled was {:3.2f} km with \\u03b8={:04.1f}\\u00b0.\".format(\n",
    "    x_max/1000, theta_max*180/np.pi))"
   ]
  },
  {
   "cell_type": "markdown",
   "metadata": {},
   "source": [
    "## Defining workflows with signac-flow\n",
    "\n",
    "Since we're now working with a larger data space, it is a good idea to automate our workflow.\n",
    "For this we define a `FlowProject` and functions that *operate* on the data space as part of a workflow.\n",
    "We define `MyProject` as a class that inherits its behavior directly from the `FlowProject`."
   ]
  },
  {
   "cell_type": "code",
   "execution_count": 14,
   "metadata": {},
   "outputs": [
    {
     "name": "stdout",
     "output_type": "stream",
     "text": [
      "Writing project.py\n"
     ]
    }
   ],
   "source": [
    "%%writefile project.py\n",
    "from flow import FlowProject\n",
    "import numpy as np\n",
    "\n",
    "\n",
    "def get_t_max(v, theta, g=9.81):\n",
    "    return 2 * v * np.sin(theta) / g\n",
    "\n",
    "\n",
    "def compute_xy(t, v, theta, g=9.81):\n",
    "    return v * np.cos(theta) * t, v * np.sin(theta) * t - (g/2) * t**2\n",
    "\n",
    "\n",
    "from flow import FlowProject\n",
    "\n",
    "class MyProject(FlowProject):\n",
    "    pass\n",
    "\n",
    "\n",
    "@MyProject.label\n",
    "def trajectory_computed(job):\n",
    "    return job.isfile('trajectory.npz')\n",
    "\n",
    "\n",
    "@MyProject.operation\n",
    "@MyProject.post(trajectory_computed)\n",
    "def compute_trajectory(job):\n",
    "    from time import sleep; sleep(1)  # add some artificial computational cost here\n",
    "    t = np.linspace(0, get_t_max(job.sp.velocity, job.sp.theta), 100)\n",
    "    xy = np.asarray(compute_xy(t, job.sp.velocity, job.sp.theta)).T\n",
    "    np.savez(job.fn('trajectory.npz'), t=t, xy=xy)\n",
    "    \n",
    "    job.doc.t_max = t.max()\n",
    "    job.doc.x_max = xy[:, 0].max()\n",
    "\n",
    "\n",
    "@MyProject.operation\n",
    "@MyProject.pre.after(compute_trajectory)\n",
    "@MyProject.post.isfile('trajectory.png')\n",
    "def plot_trajectory(job):\n",
    "    from render import plot\n",
    "    fig, ax = plot(velocity=job.sp.velocity, theta=job.sp.theta)\n",
    "    fig.savefig(job.fn('trajectory.png'))\n",
    "\n",
    "\n",
    "if __name__ == '__main__':\n",
    "    MyProject().main()"
   ]
  },
  {
   "cell_type": "code",
   "execution_count": 15,
   "metadata": {},
   "outputs": [
    {
     "name": "stdout",
     "output_type": "stream",
     "text": [
      "Collect job status info: 100%|█████████████████| 12/12 [00:00<00:00, 581.94it/s]\n",
      "# Overview:\n",
      "Total # of jobs: 12\n",
      "\n",
      "label    ratio\n",
      "-------  -------\n",
      "[no labels to show]\n",
      "\n",
      "# Detailed View:\n",
      "job_id                              velocity    theta  labels\n",
      "--------------------------------  ----------  -------  --------\n",
      "169d4548f467018d52dd1ed7cb4a116c        3000    0.625\n",
      "├● \u001b[1mcompute_trajectory\u001b[0m [U]\n",
      "└○ plot_trajectory    [U]\n",
      "32fc6fc04439737373a7b22b53a8c940        2500    0.625\n",
      "├● \u001b[1mcompute_trajectory\u001b[0m [U]\n",
      "└○ plot_trajectory    [U]\n",
      "3370bc0aa98a61b99e21893798c582b8        2000    0.625\n",
      "├● \u001b[1mcompute_trajectory\u001b[0m [U]\n",
      "└○ plot_trajectory    [U]\n",
      "409bd7c78ce407c20234029f01132657        2000    0.85\n",
      "├● \u001b[1mcompute_trajectory\u001b[0m [U]\n",
      "└○ plot_trajectory    [U]\n",
      "4504d52a91ce8e0cf8ef3884aa0a03df        2500    0.4\n",
      "├● \u001b[1mcompute_trajectory\u001b[0m [U]\n",
      "└○ plot_trajectory    [U]\n",
      "5bacf98e0e5445844ca19aeccfd6c541        3000    1.3\n",
      "├● \u001b[1mcompute_trajectory\u001b[0m [U]\n",
      "└○ plot_trajectory    [U]\n",
      "5dd37c0c77d5dde1f69e07a2aba998e7        2500    1.3\n",
      "├● \u001b[1mcompute_trajectory\u001b[0m [U]\n",
      "└○ plot_trajectory    [U]\n",
      "5fa7e708d7391c1a744c9d715a257385        3000    0.85\n",
      "├● \u001b[1mcompute_trajectory\u001b[0m [U]\n",
      "└○ plot_trajectory    [U]\n",
      "8123e13e8be002396d2e50b1ef7e5fd1        3000    0.4\n",
      "├● \u001b[1mcompute_trajectory\u001b[0m [U]\n",
      "└○ plot_trajectory    [U]\n",
      "d1e4f4e909ca09c26abfe0c0875bff3f        2000    0.4\n",
      "├● \u001b[1mcompute_trajectory\u001b[0m [U]\n",
      "└✔ plot_trajectory    [U]\n",
      "e0e6336a81a71a2dfbc2278e6e24a945        2000    1.3\n",
      "├● \u001b[1mcompute_trajectory\u001b[0m [U]\n",
      "└○ plot_trajectory    [U]\n",
      "fe1600e1b70186c7611cda88800d26d6        2500    0.85\n",
      "├● \u001b[1mcompute_trajectory\u001b[0m [U]\n",
      "└○ plot_trajectory    [U]\n",
      "Legend: ○:ineligible ●:eligible ▹:active ▸:running ✔:completed\n"
     ]
    }
   ],
   "source": [
    "!python3 project.py status --full --pretty --parameters velocity theta --stack"
   ]
  },
  {
   "cell_type": "code",
   "execution_count": 16,
   "metadata": {},
   "outputs": [
    {
     "name": "stdout",
     "output_type": "stream",
     "text": [
      "Gather pending operations:|###################################################################################|100%\n",
      "100%|███████████████████████████████████████████| 12/12 [00:12<00:00,  1.04s/it]\n",
      "Gather pending operations:|###################################################################################|100%\n"
     ]
    }
   ],
   "source": [
    "!python3 project.py run -o compute_trajectory --progress"
   ]
  },
  {
   "cell_type": "code",
   "execution_count": 17,
   "metadata": {},
   "outputs": [
    {
     "name": "stdout",
     "output_type": "stream",
     "text": [
      "Gather pending operations:|###################################################################################|100%\n",
      "Serialize tasks|##############################################################################################|100%\n",
      "100%|███████████████████████████████████████████| 11/11 [00:03<00:00,  3.09it/s]\n",
      "Gather pending operations:|###################################################################################|100%\n"
     ]
    }
   ],
   "source": [
    "!python3 project.py run --progress --parallel=4"
   ]
  },
  {
   "cell_type": "code",
   "execution_count": 18,
   "metadata": {},
   "outputs": [
    {
     "name": "stdout",
     "output_type": "stream",
     "text": [
      "Collect job status info: 100%|█████████████████| 12/12 [00:00<00:00, 851.49it/s]\n",
      "# Overview:\n",
      "Total # of jobs: 0\n",
      "\n",
      "label    ratio\n",
      "-------  -------\n",
      "[no labels to show]\n",
      "\n",
      "# Detailed View:\n",
      "job_id    operation    labels\n",
      "--------  -----------  --------\n"
     ]
    }
   ],
   "source": [
    "!python3 project.py status -d --only-incomplete"
   ]
  },
  {
   "cell_type": "markdown",
   "metadata": {},
   "source": [
    "## Data visualization with signac-dashboard\n",
    "\n",
    "Below, we define and run an instance of ``signac-dashboard`` to visualize the data."
   ]
  },
  {
   "cell_type": "code",
   "execution_count": 19,
   "metadata": {},
   "outputs": [
    {
     "name": "stdout",
     "output_type": "stream",
     "text": [
      "Writing dashboard.py\n"
     ]
    }
   ],
   "source": [
    "%%writefile dashboard.py\n",
    "from signac_dashboard import Dashboard\n",
    "from signac_dashboard.modules import StatepointList, DocumentList, ImageViewer\n",
    "\n",
    "class ProjectileDashboard(Dashboard):\n",
    "    pass\n",
    "\n",
    "modules = [StatepointList(),\n",
    "           DocumentList(),\n",
    "           ImageViewer()]\n",
    "\n",
    "if __name__ == '__main__':\n",
    "    ProjectileDashboard(modules=modules).main()"
   ]
  },
  {
   "cell_type": "code",
   "execution_count": 20,
   "metadata": {},
   "outputs": [
    {
     "name": "stdout",
     "output_type": "stream",
     "text": [
      " * Serving Flask app \"signac-dashboard\" (lazy loading)\n",
      " * Environment: production\n",
      "\u001b[31m   WARNING: Do not use the development server in a production environment.\u001b[0m\n",
      "\u001b[2m   Use a production WSGI server instead.\u001b[0m\n",
      " * Debug mode: off\n",
      " * Running on http://localhost:8888/ (Press CTRL+C to quit)\n",
      "^C\n"
     ]
    }
   ],
   "source": [
    "!python3 dashboard.py run"
   ]
  }
 ],
 "metadata": {
  "kernelspec": {
   "display_name": "Python 3",
   "language": "python",
   "name": "python3"
  },
  "language_info": {
   "codemirror_mode": {
    "name": "ipython",
    "version": 3
   },
   "file_extension": ".py",
   "mimetype": "text/x-python",
   "name": "python",
   "nbconvert_exporter": "python",
   "pygments_lexer": "ipython3",
   "version": "3.6.3"
  },
  "toc": {
   "nav_menu": {},
   "number_sections": true,
   "sideBar": true,
   "skip_h1_title": false,
   "title_cell": "Table of Contents",
   "title_sidebar": "Contents",
   "toc_cell": false,
   "toc_position": {},
   "toc_section_display": true,
   "toc_window_display": false
  }
 },
 "nbformat": 4,
 "nbformat_minor": 2
}
